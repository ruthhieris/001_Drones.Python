{
 "cells": [
  {
   "cell_type": "markdown",
   "metadata": {},
   "source": [
    "## Bresenham "
   ]
  },
  {
   "cell_type": "code",
   "execution_count": 3,
   "metadata": {},
   "outputs": [
    {
     "name": "stdout",
     "output_type": "stream",
     "text": [
      "Meow\n"
     ]
    }
   ],
   "source": [
    "import numpy as np\n",
    "import matplotlib.pyplot as plt\n",
    "%matplotlib inline\n",
    "plt.rcParams['figure.figsize'] = 12, 12\n",
    "print(\"Meow\")"
   ]
  },
  {
   "cell_type": "markdown",
   "metadata": {},
   "source": [
    "Your task is to implement the bresenham function given two points $p_1$ and $p_2$ as inputs. The function should return the list of grid cells required to draw the line.\n",
    "\n",
    "What conditions would warrant a move by 1 unit along the x-axis? What about along the y-axis?\n",
    "\n",
    "The idea is to move based on whether the next $y$ value will be above or below the line from $p_1$ to $p_2$. We can keep track of the current line value, effectively $f(x)$ where $f$ is the line equation by incrementing a counter variable by the slope $m$ whenever we move in the x-axis.\n",
    "\n",
    "The condition is then (in pseudocode):\n",
    "\n",
    "```\n",
    "if f(x+1) > y + 1:\n",
    "    y += 1\n",
    "else:\n",
    "    x += 1\n",
    "```\n",
    "\n",
    "So, if moving along the y-axis results in a y value that is below the line, then move along the y-axis, otherwise,  move in the x-axis.\n",
    "\n",
    "But what about the case where `f(x+1) == y+1`? This will be the result of every test case when the line slope `m = 1`. In this case you have a choice to make:\n",
    "* Only identify cells that as \"in collision\" when the line actually passes through those cells (less conservative obstacle avoidance)\n",
    "* When the line passes directly through a corner of grid cells, identify all cells that share that corner as \"in collision\" (more conservative obstacle avoidance). \n",
    "\n",
    "These two options look like this for a line from (0, 0) to (5, 5):\n",
    "\n",
    "![comparison](./bresenham_comparison.png)\n",
    "\n",
    "Try coding up both! In the event that you've padded obstacles  in your grid map with a sufficient safety margin, you can likely get away with the less conservative approach (or computer graphics based Bresenham implementation in the Python package shown below).\n"
   ]
  },
  {
   "cell_type": "code",
   "execution_count": 11,
   "metadata": {},
   "outputs": [],
   "source": [
    "def bres(p1, p2): \n",
    "    \"\"\"\n",
    "    Extended method for any p1 and p2\n",
    "    \"\"\"\n",
    "    x1, y1 = p1\n",
    "    x2, y2 = p2\n",
    "    # First, set dx = x2 - x1 and dy = y2 - y1\n",
    "    dx, dy = x2 - x1, y2 - y1\n",
    "    try:\n",
    "        x_st = dx//abs(dx)\n",
    "    except ZeroDivisionError:\n",
    "        x_move = 0\n",
    "        y_move = 1\n",
    "        x_st = 1\n",
    "    try:\n",
    "        y_st = dy//abs(dy)\n",
    "    except ZeroDivisionError:\n",
    "        y_move = 0\n",
    "        x_move = 1\n",
    "        y_st = 1\n",
    "        \n",
    "    cells = []\n",
    "    # TODO: Determine valid grid cells\n",
    "\n",
    "    try:\n",
    "        m = (y2 - y1)/(x2 - x1) #slope\n",
    "        b = y2 - m * x2\n",
    "        s = dx/abs(dx) #sign to multipy without replacing < with >\n",
    "    except ZeroDivisionError:\n",
    "        b = 0\n",
    "        s = 1\n",
    "    # The condition we care about is whether \n",
    "    # (x + x_step) * m  + b < y + y_step\n",
    "    # (x + x_step) dy / dx < y + y_step - b \n",
    "    # which implies (dx < 0 case included): \n",
    "    # s *(x dy - y dx) < s *(y_st*dx - x_st*dy -b*dx)\n",
    "    # Then define a new quantity: d = x dy - y dx\n",
    "    # new condition: s*d < s*(y_st*dx - x_st*dy - b*dx)\n",
    "    # and set d = 0 initially    \n",
    "    d = x1 * dy - y1 * dx\n",
    "    # Initialize i, j indices\n",
    "    i = x1\n",
    "    j = y1    \n",
    "    while abs(i-x1) <= abs(dx) and abs(j-y1) <= abs(dy):  \n",
    "        print('x,y',(i,j), abs(i-x1), abs(dx),abs(j-y1), abs(dy))\n",
    "        cells.append([i,j])\n",
    "        print('cells',cells)\n",
    "        if dx == 0 or dy == 0:\n",
    "            cells.append([i - x_st*y_move, j - y_st*x_move])\n",
    "        elif s*d < s*(y_st * dx - x_st * dy - b * dx):\n",
    "            #(x+1)m<y+1      (x+1)m=y+1   (x+1)m>y+1, m > 0\n",
    "            #|----------|    |-----|      |--|     \n",
    "            #|          |dy  |     |dy    |  |dy\n",
    "            #|----------|    |-----|      |--|\n",
    "            #  dx              dx          dx \n",
    "            \n",
    "            #(x+1)m+b < y+1 => __/ x += 1, dy>0\n",
    "            #OR \n",
    "            #(x-1)m+b < y-1 => y -= 1, dy<0\n",
    "            print('<')\n",
    "            x_move = (abs(dy) + dy)//(2 * abs(dy)) #1 in case dy>0\n",
    "            y_move = (abs(dy) - dy)//(2 * abs(dy)) #1 in case dy<0\n",
    "        elif s*d > s*(y_st * dx - x_st * dy - b * dx):\n",
    "            #(x+1)m+b > y+1 => __/ y += 1, dy>0\n",
    "            #OR \n",
    "            #(x-1)m+b > y-1 => x -= 1, dy<0\n",
    "            print('>')\n",
    "            x_move = (abs(dy) - dy)//(2 * abs(dy))\n",
    "            y_move = (abs(dy) + dy)//(2 * abs(dy))\n",
    "            #print('ij',i,j,'xmv,ymv',x_move,y_move,'ix1,jy1',i-x1,j-y1) \n",
    "        elif s*d == s*(y_st * dx - x_st * dy - b * dx): \n",
    "            # uncomment these two lines for conservative approach\n",
    "            cells.append([i + x_st, j])\n",
    "            cells.append([i, j + y_st])\n",
    "            print('=',s*d,s*(- b))\n",
    "            x_move = 1\n",
    "            y_move = 1\n",
    "        else:\n",
    "            x_move = 0\n",
    "            y_move = 0\n",
    "        i += x_st * x_move \n",
    "        j += y_st * y_move \n",
    "        d += x_st*x_move*dy - y_st*y_move*dx\n",
    "    return np.array(cells)\n",
    "\n",
    "def line_in_cells_plt(p1, p2, cells):\n",
    "    x1, y1 = p1\n",
    "    x2, y2 = p2\n",
    "    # First, set dx = x2 - x1 and dy = y2 - y1\n",
    "    dx, dy = x2 - x1, y2 - y1\n",
    "    try:\n",
    "        x_st = dx//abs(dx)\n",
    "    except ZeroDivisionError:\n",
    "        x_st = 1\n",
    "    try:\n",
    "        y_st = dy//abs(dy)\n",
    "    except ZeroDivisionError:\n",
    "        y_st = 1\n",
    "        \n",
    "    plt.plot([p1[0], p2[0]], [p1[1], p2[1]])\n",
    "\n",
    "    for q in cells:\n",
    "        print(q)\n",
    "        plt.plot([q[0], q[0]+x_st], [q[1], q[1]], 'k')\n",
    "        plt.plot([q[0], q[0]+x_st], [q[1]+y_st, q[1]+y_st], 'k')\n",
    "        plt.plot([q[0], q[0]], [q[1],q[1]+y_st], 'k')\n",
    "        plt.plot([q[0]+x_st, q[0]+x_st], [q[1], q[1]+y_st], 'k')\n",
    "\n",
    "    plt.grid()\n",
    "    plt.axis('equal')\n",
    "    plt.xlabel(\"X\")\n",
    "    plt.ylabel(\"Y\")\n",
    "    plt.title(\"Integer based Bresenham algorithm\")\n",
    "    plt.show()\n",
    "    "
   ]
  },
  {
   "cell_type": "markdown",
   "metadata": {},
   "source": [
    "Plotting the line with the cells which it crosses. "
   ]
  },
  {
   "cell_type": "code",
   "execution_count": 17,
   "metadata": {
    "scrolled": true
   },
   "outputs": [
    {
     "name": "stdout",
     "output_type": "stream",
     "text": [
      "x,y (4, 4) 0 13 0 0\n",
      "cells [[4, 4]]\n",
      "x,y (3, 4) 1 13 0 0\n",
      "cells [[4, 4], [4, 3], [3, 4]]\n",
      "x,y (2, 4) 2 13 0 0\n",
      "cells [[4, 4], [4, 3], [3, 4], [3, 3], [2, 4]]\n",
      "x,y (1, 4) 3 13 0 0\n",
      "cells [[4, 4], [4, 3], [3, 4], [3, 3], [2, 4], [2, 3], [1, 4]]\n",
      "x,y (0, 4) 4 13 0 0\n",
      "cells [[4, 4], [4, 3], [3, 4], [3, 3], [2, 4], [2, 3], [1, 4], [1, 3], [0, 4]]\n",
      "x,y (-1, 4) 5 13 0 0\n",
      "cells [[4, 4], [4, 3], [3, 4], [3, 3], [2, 4], [2, 3], [1, 4], [1, 3], [0, 4], [0, 3], [-1, 4]]\n",
      "x,y (-2, 4) 6 13 0 0\n",
      "cells [[4, 4], [4, 3], [3, 4], [3, 3], [2, 4], [2, 3], [1, 4], [1, 3], [0, 4], [0, 3], [-1, 4], [-1, 3], [-2, 4]]\n",
      "x,y (-3, 4) 7 13 0 0\n",
      "cells [[4, 4], [4, 3], [3, 4], [3, 3], [2, 4], [2, 3], [1, 4], [1, 3], [0, 4], [0, 3], [-1, 4], [-1, 3], [-2, 4], [-2, 3], [-3, 4]]\n",
      "x,y (-4, 4) 8 13 0 0\n",
      "cells [[4, 4], [4, 3], [3, 4], [3, 3], [2, 4], [2, 3], [1, 4], [1, 3], [0, 4], [0, 3], [-1, 4], [-1, 3], [-2, 4], [-2, 3], [-3, 4], [-3, 3], [-4, 4]]\n",
      "x,y (-5, 4) 9 13 0 0\n",
      "cells [[4, 4], [4, 3], [3, 4], [3, 3], [2, 4], [2, 3], [1, 4], [1, 3], [0, 4], [0, 3], [-1, 4], [-1, 3], [-2, 4], [-2, 3], [-3, 4], [-3, 3], [-4, 4], [-4, 3], [-5, 4]]\n",
      "x,y (-6, 4) 10 13 0 0\n",
      "cells [[4, 4], [4, 3], [3, 4], [3, 3], [2, 4], [2, 3], [1, 4], [1, 3], [0, 4], [0, 3], [-1, 4], [-1, 3], [-2, 4], [-2, 3], [-3, 4], [-3, 3], [-4, 4], [-4, 3], [-5, 4], [-5, 3], [-6, 4]]\n",
      "x,y (-7, 4) 11 13 0 0\n",
      "cells [[4, 4], [4, 3], [3, 4], [3, 3], [2, 4], [2, 3], [1, 4], [1, 3], [0, 4], [0, 3], [-1, 4], [-1, 3], [-2, 4], [-2, 3], [-3, 4], [-3, 3], [-4, 4], [-4, 3], [-5, 4], [-5, 3], [-6, 4], [-6, 3], [-7, 4]]\n",
      "x,y (-8, 4) 12 13 0 0\n",
      "cells [[4, 4], [4, 3], [3, 4], [3, 3], [2, 4], [2, 3], [1, 4], [1, 3], [0, 4], [0, 3], [-1, 4], [-1, 3], [-2, 4], [-2, 3], [-3, 4], [-3, 3], [-4, 4], [-4, 3], [-5, 4], [-5, 3], [-6, 4], [-6, 3], [-7, 4], [-7, 3], [-8, 4]]\n",
      "x,y (-9, 4) 13 13 0 0\n",
      "cells [[4, 4], [4, 3], [3, 4], [3, 3], [2, 4], [2, 3], [1, 4], [1, 3], [0, 4], [0, 3], [-1, 4], [-1, 3], [-2, 4], [-2, 3], [-3, 4], [-3, 3], [-4, 4], [-4, 3], [-5, 4], [-5, 3], [-6, 4], [-6, 3], [-7, 4], [-7, 3], [-8, 4], [-8, 3], [-9, 4]]\n",
      "[4 4]\n",
      "[4 3]\n",
      "[3 4]\n",
      "[3 3]\n",
      "[2 4]\n",
      "[2 3]\n",
      "[1 4]\n",
      "[1 3]\n",
      "[0 4]\n",
      "[0 3]\n",
      "[-1  4]\n",
      "[-1  3]\n",
      "[-2  4]\n",
      "[-2  3]\n",
      "[-3  4]\n",
      "[-3  3]\n",
      "[-4  4]\n",
      "[-4  3]\n",
      "[-5  4]\n",
      "[-5  3]\n",
      "[-6  4]\n",
      "[-6  3]\n",
      "[-7  4]\n",
      "[-7  3]\n",
      "[-8  4]\n",
      "[-8  3]\n",
      "[-9  4]\n",
      "[-9  3]\n"
     ]
    },
    {
     "data": {
      "image/png": "[encoded data removed]",
      "text/plain": [
       "<matplotlib.figure.Figure at 0x7f92d4dc6cf8>"
      ]
     },
     "metadata": {},
     "output_type": "display_data"
    }
   ],
   "source": [
    "p1 = (4,4)\n",
    "p2 = (-9,4)\n",
    "\n",
    "cells = bres(p1, p2)\n",
    "#print(cells)\n",
    "line_in_cells_plt(p1,p2,cells)\n"
   ]
  },
  {
   "cell_type": "markdown",
   "metadata": {},
   "source": [
    "Check out our solution [here](/notebooks/Bresenham-Solution.ipynb)."
   ]
  },
  {
   "cell_type": "markdown",
   "metadata": {},
   "source": [
    "### Python Bresenham Package\n",
    "For comparison let's have a look at the Python Bresenham package! As mentioned above, if you've added a safety margin around obstacles you are probably fine using this package or one like it that misses some cells in collision with the line.\n",
    "\n",
    "First we need to import it:"
   ]
  },
  {
   "cell_type": "code",
   "execution_count": 65,
   "metadata": {},
   "outputs": [],
   "source": [
    "from bresenham import bresenham"
   ]
  },
  {
   "cell_type": "markdown",
   "metadata": {},
   "source": [
    "Next we can run the same experiment as above and plot it up."
   ]
  },
  {
   "cell_type": "code",
   "execution_count": 66,
   "metadata": {},
   "outputs": [
    {
     "name": "stdout",
     "output_type": "stream",
     "text": [
      "[(0, 0), (1, 1), (2, 1), (3, 2), (4, 3), (5, 4), (6, 4), (7, 5)]\n"
     ]
    },
    {
     "data": {
      "image/png": "[encoded data removed]",
      "text/plain": [
       "<matplotlib.figure.Figure at 0x7feb15110208>"
      ]
     },
     "metadata": {},
     "output_type": "display_data"
    }
   ],
   "source": [
    "# Note: you can run this for any (x1, y1, x2, y2)\n",
    "line = (0, 0, 7, 5)\n",
    "\n",
    "cells = list(bresenham(line[0], line[1], line[2], line[3]))\n",
    "print(cells)\n",
    "\n",
    "plt.plot([line[0], line[2]], [line[1], line[3]])\n",
    "\n",
    "\n",
    "for q in cells:\n",
    "    plt.plot([q[0], q[0]+1], [q[1], q[1]], 'k')\n",
    "    plt.plot([q[0], q[0]+1], [q[1]+1, q[1]+1], 'k')\n",
    "    plt.plot([q[0], q[0]], [q[1],q[1]+1], 'k')\n",
    "    plt.plot([q[0]+1, q[0]+1], [q[1], q[1]+1], 'k')\n",
    "\n",
    "plt.grid()\n",
    "plt.axis('equal')\n",
    "plt.xlabel(\"X\")\n",
    "plt.ylabel(\"Y\")\n",
    "plt.title(\"Python package Bresenham algorithm\")\n",
    "plt.show()"
   ]
  },
  {
   "cell_type": "code",
   "execution_count": null,
   "metadata": {},
   "outputs": [],
   "source": []
  }
 ],
 "metadata": {
  "kernelspec": {
   "display_name": "Python [default]",
   "language": "python",
   "name": "python3"
  },
  "language_info": {
   "codemirror_mode": {
    "name": "ipython",
    "version": 3
   },
   "file_extension": ".py",
   "mimetype": "text/x-python",
   "name": "python",
   "nbconvert_exporter": "python",
   "pygments_lexer": "ipython3",
   "version": "3.6.4"
  }
 },
 "nbformat": 4,
 "nbformat_minor": 2
}
