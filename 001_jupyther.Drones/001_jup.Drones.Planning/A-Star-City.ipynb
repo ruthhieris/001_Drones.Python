{
 "cells": [
  {
   "cell_type": "markdown",
   "metadata": {},
   "source": [
    "## Finding Your Way In The City\n",
    "\n",
    "In this notebook you'll combine the work of previous exercises to calculate a minimal series of waypoints in order to get from a start location to a goal location.\n",
    "\n",
    "You'll reuse and modify your algorithms from:\n",
    "\n",
    "- A*\n",
    "- Configuration Space\n",
    "- Collinearity and/or Bresenham"
   ]
  },
  {
   "cell_type": "code",
   "execution_count": 1,
   "metadata": {},
   "outputs": [],
   "source": [
    "import numpy as np\n",
    "import matplotlib.pyplot as plt\n",
    "from grid import create_grid\n",
    "from planning import a_star\n",
    "\n",
    "%matplotlib inline\n",
    "\n",
    "#from bresenham import bresenham"
   ]
  },
  {
   "cell_type": "code",
   "execution_count": 2,
   "metadata": {},
   "outputs": [],
   "source": [
    "plt.rcParams['figure.figsize'] = 12, 12"
   ]
  },
  {
   "cell_type": "markdown",
   "metadata": {},
   "source": [
    "You'll notice we've imported `create_grid`, and `a_star`. These are functions you've implemented in previous exercises, and here you'll use them to create a map and find a path from a starting position to a goal position.\n",
    "\n",
    "To read the function signature and documentation execute `?` followed by the function name in a cell. In the example below we'll check the documentation for `create_grid`."
   ]
  },
  {
   "cell_type": "code",
   "execution_count": 3,
   "metadata": {},
   "outputs": [],
   "source": [
    "?create_grid"
   ]
  },
  {
   "cell_type": "markdown",
   "metadata": {},
   "source": [
    "If you would like to alter these implementations, you can modify [grid.py](/edit/grid.py) and [planning.py](/edit/planning.py) in the current directory."
   ]
  },
  {
   "cell_type": "code",
   "execution_count": 4,
   "metadata": {},
   "outputs": [
    {
     "name": "stdout",
     "output_type": "stream",
     "text": [
      "[[-310.2389   -439.2315     85.5         5.          5.         85.5     ]\n",
      " [-300.2389   -439.2315     85.5         5.          5.         85.5     ]\n",
      " [-290.2389   -439.2315     85.5         5.          5.         85.5     ]\n",
      " ..., \n",
      " [ 257.8061    425.1645      1.75852     1.292725    1.292725    1.944791]\n",
      " [ 293.9967    368.3391      3.557666    1.129456    1.129456    3.667319]\n",
      " [ 281.5162    354.4156      4.999351    1.053772    1.053772    4.950246]]\n"
     ]
    }
   ],
   "source": [
    "# This is the same obstacle data from the previous lesson.\n",
    "filename = 'colliders.csv'\n",
    "data = np.loadtxt(filename, delimiter=',', dtype='Float64', skiprows=2)\n",
    "print(data)"
   ]
  },
  {
   "cell_type": "code",
   "execution_count": 5,
   "metadata": {},
   "outputs": [],
   "source": [
    "# Static drone altitude (meters)\n",
    "drone_altitude = 5\n",
    "\n",
    "# Minimum distance stay away from obstacle (meters)\n",
    "safe_distance = 3"
   ]
  },
  {
   "cell_type": "code",
   "execution_count": 6,
   "metadata": {},
   "outputs": [],
   "source": [
    "# TODO: Use `create_grid` to create a grid configuration space of\n",
    "# the obstacle data.\n",
    "grid = create_grid(data, drone_altitude, safe_distance)"
   ]
  },
  {
   "cell_type": "code",
   "execution_count": 7,
   "metadata": {},
   "outputs": [
    {
     "data": {
      "image/png": "[encoded data removed]",
      "text/plain": [
       "<matplotlib.figure.Figure at 0x7f5ba6beaf28>"
      ]
     },
     "metadata": {},
     "output_type": "display_data"
    }
   ],
   "source": [
    "# equivalent to\n",
    "# plt.imshow(np.flip(grid, 0))\n",
    "plt.imshow(grid, origin='lower') \n",
    "\n",
    "plt.xlabel('EAST')\n",
    "plt.ylabel('NORTH')\n",
    "plt.show()"
   ]
  },
  {
   "cell_type": "markdown",
   "metadata": {},
   "source": [
    "Next you'll compute the path from a start location to a goal location using A*."
   ]
  },
  {
   "cell_type": "markdown",
   "metadata": {},
   "source": [
    "Start and goal coordinates in *(north, east)*."
   ]
  },
  {
   "cell_type": "code",
   "execution_count": 8,
   "metadata": {},
   "outputs": [],
   "source": [
    "start_ne = (25,  100)\n",
    "goal_ne = (750., 370.)"
   ]
  },
  {
   "cell_type": "markdown",
   "metadata": {},
   "source": [
    "Write a heuristic function."
   ]
  },
  {
   "cell_type": "code",
   "execution_count": 9,
   "metadata": {},
   "outputs": [],
   "source": [
    "def heuristic(position, goal_position):\n",
    "    #h = np.sqrt((position[0] - goal_position[0])**2 + (position[1] - goal_position[1])**2)\n",
    "    h = abs(position[0] - goal_position[0]) + abs(goal_position[1] - position[1])\n",
    "    return h"
   ]
  },
  {
   "cell_type": "markdown",
   "metadata": {},
   "source": [
    "Compute the lowest cost path with `a_star`. "
   ]
  },
  {
   "cell_type": "code",
   "execution_count": 10,
   "metadata": {},
   "outputs": [
    {
     "name": "stdout",
     "output_type": "stream",
     "text": [
      "Found a path.\n",
      "[(25, 100), (25, 101), (25, 102), (25, 103), (25, 104), (25, 105), (25, 106), (25, 107), (25, 108), (25, 109), (25, 110), (25, 111), (25, 112), (25, 113), (25, 114), (25, 115), (25, 116), (25, 117), (25, 118), (25, 119), (25, 120), (25, 121), (25, 122), (25, 123), (25, 124), (25, 125), (25, 126), (25, 127), (25, 128), (25, 129), (25, 130), (25, 131), (25, 132), (25, 133), (25, 134), (25, 135), (25, 136), (25, 137), (25, 138), (25, 139), (25, 140), (25, 141), (25, 142), (25, 143), (25, 144), (25, 145), (25, 146), (25, 147), (25, 148), (25, 149), (25, 150), (25, 151), (25, 152), (25, 153), (25, 154), (25, 155), (25, 156), (25, 157), (25, 158), (25, 159), (25, 160), (25, 161), (25, 162), (25, 163), (25, 164), (25, 165), (25, 166), (25, 167), (25, 168), (25, 169), (25, 170), (25, 171), (25, 172), (25, 173), (25, 174), (25, 175), (25, 176), (25, 177), (25, 178), (25, 179), (25, 180), (25, 181), (25, 182), (25, 183), (25, 184), (25, 185), (25, 186), (25, 187), (25, 188), (25, 189), (25, 190), (25, 191), (25, 192), (25, 193), (25, 194), (25, 195), (25, 196), (26, 196), (27, 196), (28, 196), (29, 196), (30, 196), (31, 196), (32, 196), (33, 196), (34, 196), (35, 196), (36, 196), (37, 196), (38, 196), (39, 196), (40, 196), (41, 196), (42, 196), (43, 196), (44, 196), (45, 196), (46, 196), (47, 196), (48, 196), (49, 196), (50, 196), (51, 196), (52, 196), (53, 196), (54, 196), (55, 196), (56, 196), (57, 196), (58, 196), (59, 196), (60, 196), (61, 196), (62, 196), (63, 196), (64, 196), (65, 196), (66, 196), (67, 196), (68, 196), (69, 196), (70, 196), (71, 196), (72, 196), (73, 196), (74, 196), (75, 196), (76, 196), (77, 196), (78, 196), (79, 196), (80, 196), (81, 196), (82, 196), (83, 196), (84, 196), (85, 196), (86, 196), (87, 196), (88, 196), (89, 196), (90, 196), (91, 196), (92, 196), (93, 196), (94, 196), (95, 196), (96, 196), (97, 196), (98, 196), (99, 196), (100, 196), (101, 196), (102, 196), (103, 196), (104, 196), (105, 196), (106, 196), (107, 196), (108, 196), (109, 196), (110, 196), (111, 196), (112, 196), (113, 196), (114, 196), (115, 196), (116, 196), (117, 196), (118, 196), (119, 196), (120, 196), (121, 196), (122, 196), (123, 196), (124, 196), (125, 196), (126, 196), (127, 196), (128, 196), (129, 196), (130, 196), (131, 196), (132, 196), (133, 196), (134, 196), (135, 196), (136, 196), (137, 196), (138, 196), (139, 196), (140, 196), (141, 196), (142, 196), (143, 196), (144, 196), (145, 196), (146, 196), (147, 196), (148, 196), (149, 196), (150, 196), (151, 196), (152, 196), (153, 196), (154, 196), (155, 196), (156, 196), (157, 196), (158, 196), (159, 196), (160, 196), (161, 196), (162, 196), (163, 196), (164, 196), (165, 196), (166, 196), (167, 196), (168, 196), (169, 196), (170, 196), (171, 196), (172, 196), (173, 196), (174, 196), (175, 196), (176, 196), (177, 196), (178, 196), (179, 196), (180, 196), (181, 196), (182, 196), (183, 196), (184, 196), (185, 196), (186, 196), (187, 196), (188, 196), (189, 196), (190, 196), (191, 196), (192, 196), (193, 196), (194, 196), (195, 196), (196, 196), (197, 196), (198, 196), (199, 196), (200, 196), (201, 196), (202, 196), (203, 196), (204, 196), (205, 196), (206, 196), (207, 196), (208, 196), (209, 196), (210, 196), (211, 196), (212, 196), (213, 196), (214, 196), (215, 196), (216, 196), (217, 196), (218, 196), (219, 196), (220, 196), (221, 196), (222, 196), (223, 196), (224, 196), (225, 196), (226, 196), (227, 196), (228, 196), (229, 196), (230, 196), (231, 196), (232, 196), (233, 196), (234, 196), (235, 196), (236, 196), (237, 196), (238, 196), (239, 196), (240, 196), (241, 196), (242, 196), (243, 196), (244, 196), (245, 196), (246, 196), (247, 196), (248, 196), (249, 196), (250, 196), (251, 196), (252, 196), (253, 196), (254, 196), (255, 196), (256, 196), (257, 196), (258, 196), (259, 196), (260, 196), (261, 196), (262, 196), (263, 196), (264, 196), (265, 196), (266, 196), (267, 196), (268, 196), (269, 196), (270, 196), (271, 196), (272, 196), (273, 196), (274, 196), (275, 196), (276, 196), (277, 196), (278, 196), (279, 196), (280, 196), (281, 196), (282, 196), (283, 196), (284, 196), (284, 197), (284, 198), (284, 199), (284, 200), (284, 201), (284, 202), (284, 203), (284, 204), (284, 205), (284, 206), (284, 207), (284, 208), (284, 209), (284, 210), (284, 211), (284, 212), (284, 213), (284, 214), (284, 215), (284, 216), (284, 217), (284, 218), (284, 219), (284, 220), (284, 221), (284, 222), (284, 223), (284, 224), (284, 225), (284, 226), (284, 227), (284, 228), (284, 229), (284, 230), (284, 231), (284, 232), (284, 233), (284, 234), (284, 235), (284, 236), (284, 237), (284, 238), (284, 239), (284, 240), (284, 241), (284, 242), (284, 243), (284, 244), (284, 245), (284, 246), (284, 247), (284, 248), (284, 249), (284, 250), (284, 251), (284, 252), (284, 253), (284, 254), (284, 255), (284, 256), (285, 256), (286, 256), (287, 256), (288, 256), (289, 256), (290, 256), (291, 256), (292, 256), (293, 256), (294, 256), (294, 257), (294, 258), (294, 259), (294, 260), (294, 261), (294, 262), (294, 263), (294, 264), (294, 265), (294, 266), (294, 267), (294, 268), (294, 269), (294, 270), (294, 271), (294, 272), (294, 273), (294, 274), (294, 275), (294, 276), (294, 277), (294, 278), (294, 279), (294, 280), (294, 281), (294, 282), (294, 283), (294, 284), (294, 285), (294, 286), (294, 287), (294, 288), (294, 289), (294, 290), (294, 291), (294, 292), (294, 293), (294, 294), (294, 295), (294, 296), (294, 297), (294, 298), (294, 299), (294, 300), (294, 301), (294, 302), (294, 303), (294, 304), (294, 305), (294, 306), (295, 306), (296, 306), (297, 306), (298, 306), (299, 306), (300, 306), (301, 306), (302, 306), (303, 306), (304, 306), (305, 306), (306, 306), (307, 306), (308, 306), (309, 306), (310, 306), (311, 306), (312, 306), (313, 306), (314, 306), (315, 306), (316, 306), (317, 306), (318, 306), (319, 306), (320, 306), (321, 306), (322, 306), (323, 306), (324, 306), (325, 306), (326, 306), (327, 306), (328, 306), (329, 306), (330, 306), (331, 306), (332, 306), (333, 306), (334, 306), (335, 306), (336, 306), (337, 306), (338, 306), (339, 306), (340, 306), (341, 306), (342, 306), (343, 306), (344, 306), (345, 306), (346, 306), (347, 306), (348, 306), (349, 306), (350, 306), (351, 306), (352, 306), (353, 306), (354, 306), (355, 306), (356, 306), (357, 306), (358, 306), (359, 306), (360, 306), (361, 306), (362, 306), (363, 306), (364, 306), (365, 306), (366, 306), (367, 306), (368, 306), (369, 306), (370, 306), (371, 306), (372, 306), (373, 306), (374, 306), (375, 306), (376, 306), (377, 306), (378, 306), (379, 306), (380, 306), (381, 306), (382, 306), (383, 306), (384, 306), (385, 306), (386, 306), (387, 306), (388, 306), (389, 306), (390, 306), (391, 306), (392, 306), (393, 306), (394, 306), (395, 306), (396, 306), (397, 306), (398, 306), (399, 306), (400, 306), (401, 306), (402, 306), (403, 306), (404, 306), (405, 306), (406, 306), (407, 306), (408, 306), (409, 306), (410, 306), (411, 306), (412, 306), (413, 306), (414, 306), (415, 306), (416, 306), (417, 306), (418, 306), (419, 306), (420, 306), (421, 306), (422, 306), (423, 306), (424, 306), (424, 307), (424, 308), (424, 309), (424, 310), (424, 311), (424, 312), (424, 313), (424, 314), (424, 315), (424, 316), (424, 317), (424, 318), (424, 319), (424, 320), (424, 321), (424, 322), (424, 323), (424, 324), (424, 325), (424, 326), (424, 327), (424, 328), (424, 329), (424, 330), (424, 331), (424, 332), (424, 333), (424, 334), (424, 335), (424, 336), (424, 337), (424, 338), (424, 339), (424, 340), (424, 341), (424, 342), (424, 343), (424, 344), (424, 345), (424, 346), (424, 347), (424, 348), (424, 349), (424, 350), (424, 351), (424, 352), (424, 353), (424, 354), (424, 355), (424, 356), (425, 356), (426, 356), (427, 356), (428, 356), (429, 356), (430, 356), (431, 356), (432, 356), (433, 356), (434, 356), (435, 356), (436, 356), (437, 356), (438, 356), (439, 356), (440, 356), (441, 356), (442, 356), (443, 356), (444, 356), (445, 356), (446, 356), (447, 356), (448, 356), (449, 356), (450, 356), (451, 356), (452, 356), (453, 356), (454, 356), (455, 356), (456, 356), (457, 356), (458, 356), (459, 356), (460, 356), (461, 356), (462, 356), (463, 356), (464, 356), (465, 356), (466, 356), (467, 356), (468, 356), (469, 356), (470, 356), (471, 356), (472, 356), (473, 356), (474, 356), (475, 356), (476, 356), (477, 356), (478, 356), (479, 356), (480, 356), (481, 356), (482, 356), (483, 356), (484, 356), (485, 356), (486, 356), (487, 356), (488, 356), (489, 356), (490, 356), (491, 356), (492, 356), (493, 356), (494, 356), (495, 356), (496, 356), (497, 356), (498, 356), (499, 356), (500, 356), (501, 356), (502, 356), (503, 356), (504, 356), (505, 356), (506, 356), (507, 356), (508, 356), (509, 356), (510, 356), (511, 356), (512, 356), (513, 356), (514, 356), (515, 356), (516, 356), (517, 356), (518, 356), (519, 356), (520, 356), (521, 356), (522, 356), (523, 356), (524, 356), (525, 356), (526, 356), (527, 356), (528, 356), (529, 356), (530, 356), (531, 356), (532, 356), (533, 356), (534, 356), (535, 356), (536, 356), (537, 356), (538, 356), (539, 356), (540, 356), (541, 356), (542, 356), (543, 356), (544, 356), (545, 356), (546, 356), (547, 356), (548, 356), (549, 356), (550, 356), (551, 356), (552, 356), (553, 356), (554, 356), (555, 356), (556, 356), (557, 356), (558, 356), (559, 356), (560, 356), (561, 356), (562, 356), (563, 356), (564, 356), (565, 356), (566, 356), (567, 356), (568, 356), (569, 356), (570, 356), (571, 356), (572, 356), (573, 356), (574, 356), (574, 357), (574, 358), (574, 359), (574, 360), (574, 361), (574, 362), (574, 363), (574, 364), (574, 365), (574, 366), (574, 367), (574, 368), (574, 369), (574, 370), (575, 370), (576, 370), (577, 370), (578, 370), (579, 370), (580, 370), (581, 370), (582, 370), (583, 370), (584, 370), (585, 370), (586, 370), (587, 370), (588, 370), (589, 370), (590, 370), (591, 370), (592, 370), (593, 370), (594, 370), (595, 370), (596, 370), (596, 371), (596, 372), (596, 373), (596, 374), (596, 375), (596, 376), (596, 377), (596, 378), (596, 379), (596, 380), (596, 381), (596, 382), (596, 383), (596, 384), (597, 384), (598, 384), (599, 384), (600, 384), (601, 384), (602, 384), (603, 384), (604, 384), (605, 384), (606, 384), (607, 384), (608, 384), (609, 384), (610, 384), (611, 384), (612, 384), (613, 384), (614, 384), (615, 384), (616, 384), (617, 384), (618, 384), (619, 384), (620, 384), (621, 384), (622, 384), (623, 384), (624, 384), (625, 384), (626, 384), (627, 384), (628, 384), (629, 384), (630, 384), (631, 384), (632, 384), (633, 384), (634, 384), (635, 384), (636, 384), (637, 384), (638, 384), (639, 384), (640, 384), (641, 384), (642, 384), (643, 384), (644, 384), (645, 384), (646, 384), (647, 384), (648, 384), (649, 384), (650, 384), (651, 384), (652, 384), (653, 384), (654, 384), (655, 384), (656, 384), (657, 384), (658, 384), (659, 384), (660, 384), (661, 384), (662, 384), (663, 384), (664, 384), (665, 384), (666, 384), (667, 384), (668, 384), (669, 384), (670, 384), (671, 384), (672, 384), (673, 384), (674, 384), (675, 384), (676, 384), (677, 384), (678, 384), (679, 384), (680, 384), (681, 384), (682, 384), (683, 384), (684, 384), (685, 384), (686, 384), (687, 384), (688, 384), (689, 384), (690, 384), (691, 384), (692, 384), (693, 384), (694, 384), (695, 384), (696, 384), (697, 384), (698, 384), (699, 384), (700, 384), (701, 384), (702, 384), (703, 384), (704, 384), (704, 383), (704, 382), (704, 381), (704, 380), (704, 379), (704, 378), (704, 377), (704, 376), (704, 375), (704, 374), (704, 373), (704, 372), (704, 371), (704, 370), (705, 370), (706, 370), (707, 370), (708, 370), (709, 370), (710, 370), (711, 370), (712, 370), (713, 370), (714, 370), (715, 370), (716, 370), (717, 370), (718, 370), (719, 370), (720, 370), (721, 370), (722, 370), (723, 370), (724, 370), (725, 370), (726, 370), (727, 370), (728, 370), (729, 370), (730, 370), (731, 370), (732, 370), (733, 370), (734, 370), (735, 370), (736, 370), (737, 370), (738, 370), (739, 370), (740, 370), (741, 370), (742, 370), (743, 370), (744, 370), (745, 370), (746, 370), (747, 370), (748, 370), (749, 370)] 500046.0\n"
     ]
    }
   ],
   "source": [
    "# TODO: use `a_star` to compute the lowest cost path\n",
    "path, cost = a_star(grid, heuristic, start_ne, goal_ne)\n",
    "#path, cost = None, None\n",
    "print(path, cost)"
   ]
  },
  {
   "cell_type": "markdown",
   "metadata": {},
   "source": [
    "Let's plot the path!"
   ]
  },
  {
   "cell_type": "code",
   "execution_count": 11,
   "metadata": {},
   "outputs": [
    {
     "data": {
      "image/png": "[encoded data removed]",
      "text/plain": [
       "<matplotlib.figure.Figure at 0x7f5ba6c5b240>"
      ]
     },
     "metadata": {},
     "output_type": "display_data"
    }
   ],
   "source": [
    "plt.imshow(grid, cmap='Greys', origin='lower')\n",
    "\n",
    "# For the purposes of the visual the east coordinate lay along\n",
    "# the x-axis and the north coordinates long the y-axis.\n",
    "plt.plot(start_ne[1], start_ne[0], 'x')\n",
    "plt.plot(goal_ne[1], goal_ne[0], 'x')\n",
    "\n",
    "if path is not None:\n",
    "    pp = np.array(path)\n",
    "    plt.plot(pp[:, 1], pp[:, 0], 'g')\n",
    "\n",
    "plt.xlabel('EAST')\n",
    "plt.ylabel('NORTH')\n",
    "plt.show()"
   ]
  },
  {
   "cell_type": "markdown",
   "metadata": {},
   "source": [
    "Pretty neat! Unfortunately this path is impractical, the drone would be constantly stopping and going since each grid cell visited is synonymous with a waypoint. Ideally, we'd like to only consider a new waypoint when the drone's direction changes. Path pruning is one way to achieve this result."
   ]
  },
  {
   "cell_type": "markdown",
   "metadata": {},
   "source": [
    "### Path Pruning"
   ]
  },
  {
   "cell_type": "code",
   "execution_count": 12,
   "metadata": {},
   "outputs": [],
   "source": [
    "def point(p):\n",
    "    return np.array([p[0], p[1], 1.]).reshape(1, -1)\n",
    "\n",
    "def collinearity_check(p1, p2, p3, epsilon=1e-6):   \n",
    "    m = np.concatenate((p1, p2, p3), 0)\n",
    "    det = np.linalg.det(m)\n",
    "    return abs(det) < epsilon"
   ]
  },
  {
   "cell_type": "markdown",
   "metadata": {},
   "source": [
    "Complete the `prune_path` function below. It should return a new path much shorter than the original."
   ]
  },
  {
   "cell_type": "code",
   "execution_count": 15,
   "metadata": {},
   "outputs": [],
   "source": [
    "def prune_path(path):\n",
    "    if path is not None:\n",
    "        pruned_path = [p for p in path]\n",
    "        i = 0        \n",
    "        while i < len(pruned_path) - 2:\n",
    "            p1 = point(pruned_path[i])\n",
    "            p2 = point(pruned_path[i+1])\n",
    "            p3 = point(pruned_path[i+2])\n",
    "            if collinearity_check(p1,p2,p3):\n",
    "                pruned_path.remove(pruned_path[i+1])\n",
    "            else:\n",
    "                i += 1\n",
    "        # TODO: prune the path!\n",
    "    else:\n",
    "        pruned_path = path\n",
    "        \n",
    "    return pruned_path"
   ]
  },
  {
   "cell_type": "markdown",
   "metadata": {},
   "source": [
    "Prune the path."
   ]
  },
  {
   "cell_type": "code",
   "execution_count": 16,
   "metadata": {},
   "outputs": [
    {
     "name": "stdout",
     "output_type": "stream",
     "text": [
      "[(25, 100), (25, 196), (284, 196), (284, 256), (294, 256), (294, 306), (424, 306), (424, 356), (574, 356), (574, 370), (596, 370), (596, 384), (704, 384), (704, 370), (749, 370)]\n"
     ]
    }
   ],
   "source": [
    "pruned_path = prune_path(path)\n",
    "print(pruned_path)"
   ]
  },
  {
   "cell_type": "code",
   "execution_count": 17,
   "metadata": {},
   "outputs": [
    {
     "data": {
      "text/plain": [
       "[(25, 100),\n",
       " (25, 196),\n",
       " (284, 196),\n",
       " (284, 256),\n",
       " (294, 256),\n",
       " (294, 306),\n",
       " (424, 306),\n",
       " (424, 356),\n",
       " (574, 356),\n",
       " (574, 370),\n",
       " (596, 370),\n",
       " (596, 384),\n",
       " (704, 384),\n",
       " (704, 370),\n",
       " (749, 370)]"
      ]
     },
     "execution_count": 17,
     "metadata": {},
     "output_type": "execute_result"
    }
   ],
   "source": [
    "pruned_path"
   ]
  },
  {
   "cell_type": "markdown",
   "metadata": {},
   "source": [
    "Replot the path, it will be the same as before but the drone flight will be much smoother."
   ]
  },
  {
   "cell_type": "code",
   "execution_count": 18,
   "metadata": {},
   "outputs": [
    {
     "data": {
      "image/png": "[encoded data removed]",
      "text/plain": [
       "<matplotlib.figure.Figure at 0x7f5ba3e45080>"
      ]
     },
     "metadata": {},
     "output_type": "display_data"
    }
   ],
   "source": [
    "plt.imshow(grid, cmap='Greys', origin='lower')\n",
    "\n",
    "plt.plot(start_ne[1], start_ne[0], 'x')\n",
    "plt.plot(goal_ne[1], goal_ne[0], 'x')\n",
    "\n",
    "if pruned_path is not None:\n",
    "    pp = np.array(pruned_path)\n",
    "    plt.plot(pp[:, 1], pp[:, 0], 'g')\n",
    "    plt.scatter(pp[:, 1], pp[:, 0])\n",
    "\n",
    "plt.xlabel('EAST')\n",
    "plt.ylabel('NORTH')\n",
    "\n",
    "plt.show()"
   ]
  },
  {
   "cell_type": "markdown",
   "metadata": {},
   "source": [
    "Now the waypoints symbolize a change in direction, much better!"
   ]
  },
  {
   "cell_type": "markdown",
   "metadata": {},
   "source": [
    "[solution](/notebooks/A-Star-City-Solution.ipynb)"
   ]
  },
  {
   "cell_type": "code",
   "execution_count": null,
   "metadata": {},
   "outputs": [],
   "source": []
  }
 ],
 "metadata": {
  "kernelspec": {
   "display_name": "Python [default]",
   "language": "python",
   "name": "python3"
  },
  "language_info": {
   "codemirror_mode": {
    "name": "ipython",
    "version": 3
   },
   "file_extension": ".py",
   "mimetype": "text/x-python",
   "name": "python",
   "nbconvert_exporter": "python",
   "pygments_lexer": "ipython3",
   "version": "3.6.4"
  }
 },
 "nbformat": 4,
 "nbformat_minor": 2
}
